{
 "cells": [
  {
   "cell_type": "markdown",
   "metadata": {},
   "source": [
    "# API Aufrufe mit Python"
   ]
  },
  {
   "cell_type": "code",
   "execution_count": 7,
   "metadata": {},
   "outputs": [],
   "source": [
    "import requests\n",
    "import json"
   ]
  },
  {
   "cell_type": "markdown",
   "metadata": {},
   "source": [
    "Wir beginnen damit, dass wir die vorher erfassten Users abrufen\n",
    "\n",
    "Dazu musst du die zuvor für dich generierte URL in der nächsten Zelle eintragen"
   ]
  },
  {
   "cell_type": "code",
   "execution_count": 20,
   "metadata": {},
   "outputs": [],
   "source": [
    "url = \"https://caee3834c899a00e1b1c.free.beeceptor.com/api/users\""
   ]
  },
  {
   "cell_type": "code",
   "execution_count": null,
   "metadata": {},
   "outputs": [
    {
     "data": {
      "text/plain": [
       "[{'first_name': 'Max2',\n",
       "  'last_name': 'Mustermann',\n",
       "  'age': 30,\n",
       "  'is_active': True,\n",
       "  'id': 'd1fb1ea0c348f5e413b1'}]"
      ]
     },
     "execution_count": 21,
     "metadata": {},
     "output_type": "execute_result"
    }
   ],
   "source": [
    "# Make the Get request\n",
    "response = requests.get(\n",
    "    url=url\n",
    ")\n",
    "\n",
    "response.json()"
   ]
  },
  {
   "cell_type": "code",
   "execution_count": 23,
   "metadata": {},
   "outputs": [
    {
     "name": "stdout",
     "output_type": "stream",
     "text": [
      "{'first_name': 'Felix', 'last_name': 'Huber', 'age': 22, 'is_active': True, 'id': '96606f5d1cd56c6bb698'}\n"
     ]
    }
   ],
   "source": [
    "# Jetzt erfassen wir einen neuen User\n",
    "\n",
    "headers = {\n",
    "    'Content-Type': 'application/json',\n",
    "    'Accept': 'application/json'\n",
    "}\n",
    "\n",
    "data = {\n",
    "  \"first_name\": \"Felix\",\n",
    "  \"last_name\": \"Huber\",\n",
    "  \"age\": 22,\n",
    "  \"is_active\": True\n",
    "}\n",
    "\n",
    "# Make the POST request\n",
    "response = requests.post(\n",
    "    url= url,\n",
    "    data=json.dumps(data),\n",
    "    headers=headers\n",
    ")\n",
    "\n",
    "print(response.json())\n",
    "\n"
   ]
  }
 ],
 "metadata": {
  "kernelspec": {
   "display_name": "Python 3",
   "language": "python",
   "name": "python3"
  },
  "language_info": {
   "codemirror_mode": {
    "name": "ipython",
    "version": 3
   },
   "file_extension": ".py",
   "mimetype": "text/x-python",
   "name": "python",
   "nbconvert_exporter": "python",
   "pygments_lexer": "ipython3",
   "version": "3.12.1"
  }
 },
 "nbformat": 4,
 "nbformat_minor": 2
}
